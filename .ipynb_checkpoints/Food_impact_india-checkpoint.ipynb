{
 "cells": [
  {
   "cell_type": "markdown",
   "id": "770fe82c-0024-4201-9d5f-5b8dc12a6dd4",
   "metadata": {},
   "source": [
    "Data Template: Extraction & Cleaning"
   ]
  },
  {
   "cell_type": "markdown",
   "id": "34e58b1a-e1f8-402d-a36a-0a9812cae139",
   "metadata": {},
   "source": [
    "## <span style= \"color:green\" > 00 | Import library </span>"
   ]
  },
  {
   "cell_type": "code",
   "execution_count": 1,
   "id": "84f40223-635d-4380-a66b-c6caca191f90",
   "metadata": {},
   "outputs": [],
   "source": [
    "import pandas as pd\n",
    "\n",
    "import numpy as np\n",
    "\n",
    "# 📊 Visualizations\n",
    "\n",
    "import matplotlib.pyplot as plt\n",
    "import seaborn as sns\n",
    "import plotly.express as px\n",
    "import plotly.graph_objects as go\n"
   ]
  },
  {
   "cell_type": "markdown",
   "id": "283d0823-8099-4fe8-a10e-f8e071cd1942",
   "metadata": {},
   "source": [
    "## <span style= \"color:green\" >01 | Data Extraction </span>"
   ]
  },
  {
   "cell_type": "code",
   "execution_count": 4,
   "id": "4d1215a1-b913-4135-aa3b-6a35967c8141",
   "metadata": {},
   "outputs": [],
   "source": [
    "food_impact=pd.read_csv('food_impact_india.csv')"
   ]
  },
  {
   "cell_type": "code",
   "execution_count": 5,
   "id": "bc4903ec-13c3-4b29-878b-27478d5e28e2",
   "metadata": {},
   "outputs": [
    {
     "data": {
      "text/plain": [
       "(17686, 16)"
      ]
     },
     "execution_count": 5,
     "metadata": {},
     "output_type": "execute_result"
    }
   ],
   "source": [
    "food_impact.shape"
   ]
  },
  {
   "cell_type": "code",
   "execution_count": 6,
   "id": "f5034279-99de-4b12-90d5-cbffe1a7b29e",
   "metadata": {},
   "outputs": [
    {
     "data": {
      "text/plain": [
       "Index(['Person_ID', 'Age', 'Gender', 'Region', 'Diet_Type', 'Primary_Cuisine',\n",
       "       'Spice_Level', 'Daily_Calorie_Intake', 'Health_Impact',\n",
       "       'Common_Diseases', 'Exercise_Level', 'BMI', 'Food_Frequency',\n",
       "       'Sugar_Intake', 'Salt_Intake', 'Health_Score'],\n",
       "      dtype='object')"
      ]
     },
     "execution_count": 6,
     "metadata": {},
     "output_type": "execute_result"
    }
   ],
   "source": [
    "food_impact.columns"
   ]
  },
  {
   "cell_type": "code",
   "execution_count": 6,
   "id": "1db51e03-d95c-4d00-9183-809cb4e0194e",
   "metadata": {},
   "outputs": [
    {
     "data": {
      "text/html": [
       "<div>\n",
       "<style scoped>\n",
       "    .dataframe tbody tr th:only-of-type {\n",
       "        vertical-align: middle;\n",
       "    }\n",
       "\n",
       "    .dataframe tbody tr th {\n",
       "        vertical-align: top;\n",
       "    }\n",
       "\n",
       "    .dataframe thead th {\n",
       "        text-align: right;\n",
       "    }\n",
       "</style>\n",
       "<table border=\"1\" class=\"dataframe\">\n",
       "  <thead>\n",
       "    <tr style=\"text-align: right;\">\n",
       "      <th></th>\n",
       "      <th>Person_ID</th>\n",
       "      <th>Age</th>\n",
       "      <th>Gender</th>\n",
       "      <th>Region</th>\n",
       "      <th>Diet_Type</th>\n",
       "      <th>Primary_Cuisine</th>\n",
       "      <th>Spice_Level</th>\n",
       "      <th>Daily_Calorie_Intake</th>\n",
       "      <th>Health_Impact</th>\n",
       "      <th>Common_Diseases</th>\n",
       "      <th>Exercise_Level</th>\n",
       "      <th>BMI</th>\n",
       "      <th>Food_Frequency</th>\n",
       "      <th>Sugar_Intake</th>\n",
       "      <th>Salt_Intake</th>\n",
       "      <th>Health_Score</th>\n",
       "    </tr>\n",
       "  </thead>\n",
       "  <tbody>\n",
       "    <tr>\n",
       "      <th>0</th>\n",
       "      <td>1</td>\n",
       "      <td>56</td>\n",
       "      <td>Female</td>\n",
       "      <td>East</td>\n",
       "      <td>Vegetarian</td>\n",
       "      <td>Gujarati</td>\n",
       "      <td>High</td>\n",
       "      <td>2768</td>\n",
       "      <td>Positive</td>\n",
       "      <td>Diabetes</td>\n",
       "      <td>Sedentary</td>\n",
       "      <td>37.3</td>\n",
       "      <td>5</td>\n",
       "      <td>Low</td>\n",
       "      <td>High</td>\n",
       "      <td>30</td>\n",
       "    </tr>\n",
       "    <tr>\n",
       "      <th>1</th>\n",
       "      <td>2</td>\n",
       "      <td>69</td>\n",
       "      <td>Male</td>\n",
       "      <td>Central</td>\n",
       "      <td>Vegetarian</td>\n",
       "      <td>North Indian</td>\n",
       "      <td>Low</td>\n",
       "      <td>3005</td>\n",
       "      <td>Positive</td>\n",
       "      <td>Obesity</td>\n",
       "      <td>Moderate</td>\n",
       "      <td>38.4</td>\n",
       "      <td>3</td>\n",
       "      <td>Low</td>\n",
       "      <td>Moderate</td>\n",
       "      <td>95</td>\n",
       "    </tr>\n",
       "    <tr>\n",
       "      <th>2</th>\n",
       "      <td>3</td>\n",
       "      <td>46</td>\n",
       "      <td>Male</td>\n",
       "      <td>South</td>\n",
       "      <td>Vegetarian</td>\n",
       "      <td>Maharashtrian</td>\n",
       "      <td>Medium</td>\n",
       "      <td>3416</td>\n",
       "      <td>Positive</td>\n",
       "      <td>Diabetes</td>\n",
       "      <td>Sedentary</td>\n",
       "      <td>19.6</td>\n",
       "      <td>4</td>\n",
       "      <td>High</td>\n",
       "      <td>Low</td>\n",
       "      <td>86</td>\n",
       "    </tr>\n",
       "    <tr>\n",
       "      <th>3</th>\n",
       "      <td>4</td>\n",
       "      <td>32</td>\n",
       "      <td>Female</td>\n",
       "      <td>West</td>\n",
       "      <td>Vegan</td>\n",
       "      <td>North Indian</td>\n",
       "      <td>Medium</td>\n",
       "      <td>1572</td>\n",
       "      <td>Neutral</td>\n",
       "      <td>NaN</td>\n",
       "      <td>Moderate</td>\n",
       "      <td>32.5</td>\n",
       "      <td>5</td>\n",
       "      <td>Low</td>\n",
       "      <td>Low</td>\n",
       "      <td>81</td>\n",
       "    </tr>\n",
       "    <tr>\n",
       "      <th>4</th>\n",
       "      <td>5</td>\n",
       "      <td>60</td>\n",
       "      <td>Male</td>\n",
       "      <td>East</td>\n",
       "      <td>Non-Vegetarian</td>\n",
       "      <td>Gujarati</td>\n",
       "      <td>Medium</td>\n",
       "      <td>2539</td>\n",
       "      <td>Negative</td>\n",
       "      <td>Diabetes</td>\n",
       "      <td>Moderate</td>\n",
       "      <td>30.4</td>\n",
       "      <td>4</td>\n",
       "      <td>High</td>\n",
       "      <td>Moderate</td>\n",
       "      <td>37</td>\n",
       "    </tr>\n",
       "  </tbody>\n",
       "</table>\n",
       "</div>"
      ],
      "text/plain": [
       "   Person_ID  Age  Gender   Region       Diet_Type Primary_Cuisine  \\\n",
       "0          1   56  Female     East      Vegetarian        Gujarati   \n",
       "1          2   69    Male  Central      Vegetarian    North Indian   \n",
       "2          3   46    Male    South      Vegetarian   Maharashtrian   \n",
       "3          4   32  Female     West           Vegan    North Indian   \n",
       "4          5   60    Male     East  Non-Vegetarian        Gujarati   \n",
       "\n",
       "  Spice_Level  Daily_Calorie_Intake Health_Impact Common_Diseases  \\\n",
       "0        High                  2768      Positive        Diabetes   \n",
       "1         Low                  3005      Positive         Obesity   \n",
       "2      Medium                  3416      Positive        Diabetes   \n",
       "3      Medium                  1572       Neutral             NaN   \n",
       "4      Medium                  2539      Negative        Diabetes   \n",
       "\n",
       "  Exercise_Level   BMI  Food_Frequency Sugar_Intake Salt_Intake  Health_Score  \n",
       "0      Sedentary  37.3               5          Low        High            30  \n",
       "1       Moderate  38.4               3          Low    Moderate            95  \n",
       "2      Sedentary  19.6               4         High         Low            86  \n",
       "3       Moderate  32.5               5          Low         Low            81  \n",
       "4       Moderate  30.4               4         High    Moderate            37  "
      ]
     },
     "execution_count": 6,
     "metadata": {},
     "output_type": "execute_result"
    }
   ],
   "source": [
    "food_impact.head(5)"
   ]
  },
  {
   "cell_type": "code",
   "execution_count": 7,
   "id": "a316b9a8-462e-45d1-91f9-1e4411191695",
   "metadata": {},
   "outputs": [
    {
     "data": {
      "text/html": [
       "<div>\n",
       "<style scoped>\n",
       "    .dataframe tbody tr th:only-of-type {\n",
       "        vertical-align: middle;\n",
       "    }\n",
       "\n",
       "    .dataframe tbody tr th {\n",
       "        vertical-align: top;\n",
       "    }\n",
       "\n",
       "    .dataframe thead th {\n",
       "        text-align: right;\n",
       "    }\n",
       "</style>\n",
       "<table border=\"1\" class=\"dataframe\">\n",
       "  <thead>\n",
       "    <tr style=\"text-align: right;\">\n",
       "      <th></th>\n",
       "      <th>Person_ID</th>\n",
       "      <th>Age</th>\n",
       "      <th>Gender</th>\n",
       "      <th>Region</th>\n",
       "      <th>Diet_Type</th>\n",
       "      <th>Primary_Cuisine</th>\n",
       "      <th>Spice_Level</th>\n",
       "      <th>Daily_Calorie_Intake</th>\n",
       "      <th>Health_Impact</th>\n",
       "      <th>Common_Diseases</th>\n",
       "      <th>Exercise_Level</th>\n",
       "      <th>BMI</th>\n",
       "      <th>Food_Frequency</th>\n",
       "      <th>Sugar_Intake</th>\n",
       "      <th>Salt_Intake</th>\n",
       "      <th>Health_Score</th>\n",
       "    </tr>\n",
       "  </thead>\n",
       "  <tbody>\n",
       "    <tr>\n",
       "      <th>17681</th>\n",
       "      <td>17682</td>\n",
       "      <td>61</td>\n",
       "      <td>Male</td>\n",
       "      <td>North</td>\n",
       "      <td>Non-Vegetarian</td>\n",
       "      <td>North Indian</td>\n",
       "      <td>Medium</td>\n",
       "      <td>3363</td>\n",
       "      <td>Positive</td>\n",
       "      <td>Cardiac Issues</td>\n",
       "      <td>Moderate</td>\n",
       "      <td>20.1</td>\n",
       "      <td>2</td>\n",
       "      <td>Moderate</td>\n",
       "      <td>High</td>\n",
       "      <td>27</td>\n",
       "    </tr>\n",
       "    <tr>\n",
       "      <th>17682</th>\n",
       "      <td>17683</td>\n",
       "      <td>31</td>\n",
       "      <td>Male</td>\n",
       "      <td>South</td>\n",
       "      <td>Vegetarian</td>\n",
       "      <td>South Indian</td>\n",
       "      <td>Low</td>\n",
       "      <td>1911</td>\n",
       "      <td>Negative</td>\n",
       "      <td>NaN</td>\n",
       "      <td>Sedentary</td>\n",
       "      <td>27.1</td>\n",
       "      <td>5</td>\n",
       "      <td>Low</td>\n",
       "      <td>Moderate</td>\n",
       "      <td>58</td>\n",
       "    </tr>\n",
       "    <tr>\n",
       "      <th>17683</th>\n",
       "      <td>17684</td>\n",
       "      <td>32</td>\n",
       "      <td>Female</td>\n",
       "      <td>East</td>\n",
       "      <td>Vegetarian</td>\n",
       "      <td>North Indian</td>\n",
       "      <td>Low</td>\n",
       "      <td>1942</td>\n",
       "      <td>Positive</td>\n",
       "      <td>Diabetes</td>\n",
       "      <td>Moderate</td>\n",
       "      <td>29.1</td>\n",
       "      <td>2</td>\n",
       "      <td>Low</td>\n",
       "      <td>Moderate</td>\n",
       "      <td>59</td>\n",
       "    </tr>\n",
       "    <tr>\n",
       "      <th>17684</th>\n",
       "      <td>17685</td>\n",
       "      <td>33</td>\n",
       "      <td>Non-Binary</td>\n",
       "      <td>West</td>\n",
       "      <td>Non-Vegetarian</td>\n",
       "      <td>Gujarati</td>\n",
       "      <td>High</td>\n",
       "      <td>1778</td>\n",
       "      <td>Negative</td>\n",
       "      <td>NaN</td>\n",
       "      <td>Moderate</td>\n",
       "      <td>33.5</td>\n",
       "      <td>3</td>\n",
       "      <td>Moderate</td>\n",
       "      <td>High</td>\n",
       "      <td>20</td>\n",
       "    </tr>\n",
       "    <tr>\n",
       "      <th>17685</th>\n",
       "      <td>17686</td>\n",
       "      <td>19</td>\n",
       "      <td>Male</td>\n",
       "      <td>South</td>\n",
       "      <td>Non-Vegetarian</td>\n",
       "      <td>Bengali</td>\n",
       "      <td>Low</td>\n",
       "      <td>3253</td>\n",
       "      <td>Positive</td>\n",
       "      <td>NaN</td>\n",
       "      <td>Sedentary</td>\n",
       "      <td>19.6</td>\n",
       "      <td>1</td>\n",
       "      <td>Moderate</td>\n",
       "      <td>Moderate</td>\n",
       "      <td>28</td>\n",
       "    </tr>\n",
       "  </tbody>\n",
       "</table>\n",
       "</div>"
      ],
      "text/plain": [
       "       Person_ID  Age      Gender Region       Diet_Type Primary_Cuisine  \\\n",
       "17681      17682   61        Male  North  Non-Vegetarian    North Indian   \n",
       "17682      17683   31        Male  South      Vegetarian    South Indian   \n",
       "17683      17684   32      Female   East      Vegetarian    North Indian   \n",
       "17684      17685   33  Non-Binary   West  Non-Vegetarian        Gujarati   \n",
       "17685      17686   19        Male  South  Non-Vegetarian         Bengali   \n",
       "\n",
       "      Spice_Level  Daily_Calorie_Intake Health_Impact Common_Diseases  \\\n",
       "17681      Medium                  3363      Positive  Cardiac Issues   \n",
       "17682         Low                  1911      Negative             NaN   \n",
       "17683         Low                  1942      Positive        Diabetes   \n",
       "17684        High                  1778      Negative             NaN   \n",
       "17685         Low                  3253      Positive             NaN   \n",
       "\n",
       "      Exercise_Level   BMI  Food_Frequency Sugar_Intake Salt_Intake  \\\n",
       "17681       Moderate  20.1               2     Moderate        High   \n",
       "17682      Sedentary  27.1               5          Low    Moderate   \n",
       "17683       Moderate  29.1               2          Low    Moderate   \n",
       "17684       Moderate  33.5               3     Moderate        High   \n",
       "17685      Sedentary  19.6               1     Moderate    Moderate   \n",
       "\n",
       "       Health_Score  \n",
       "17681            27  \n",
       "17682            58  \n",
       "17683            59  \n",
       "17684            20  \n",
       "17685            28  "
      ]
     },
     "execution_count": 7,
     "metadata": {},
     "output_type": "execute_result"
    }
   ],
   "source": [
    "food_impact.tail()"
   ]
  },
  {
   "cell_type": "markdown",
   "id": "2d676ce5-c343-4bee-a9ea-48c58eb9a608",
   "metadata": {},
   "source": [
    "The following dataset is about the **Food Impact in India**. It contains 17,686 rows and 16 columns, providing insights into how different food habits influence the health and lifestyle of individuals in India. "
   ]
  },
  {
   "cell_type": "markdown",
   "id": "8723e864-6c6a-4671-957f-0ed4fa0147ab",
   "metadata": {},
   "source": [
    "## <span style= \"color:orange\" > 02 | Data Cleaning </span>"
   ]
  },
  {
   "cell_type": "code",
   "execution_count": 8,
   "id": "9572d6f4-e4c9-49aa-9484-0e0a3868b057",
   "metadata": {},
   "outputs": [
    {
     "data": {
      "text/plain": [
       "Person_ID                 int64\n",
       "Age                       int64\n",
       "Gender                   object\n",
       "Region                   object\n",
       "Diet_Type                object\n",
       "Primary_Cuisine          object\n",
       "Spice_Level              object\n",
       "Daily_Calorie_Intake      int64\n",
       "Health_Impact            object\n",
       "Common_Diseases          object\n",
       "Exercise_Level           object\n",
       "BMI                     float64\n",
       "Food_Frequency            int64\n",
       "Sugar_Intake             object\n",
       "Salt_Intake              object\n",
       "Health_Score              int64\n",
       "dtype: object"
      ]
     },
     "execution_count": 8,
     "metadata": {},
     "output_type": "execute_result"
    }
   ],
   "source": [
    "food_impact.dtypes"
   ]
  },
  {
   "cell_type": "code",
   "execution_count": 9,
   "id": "dc4ad7f7-5f56-4323-be18-5819dd579a7b",
   "metadata": {},
   "outputs": [
    {
     "data": {
      "text/plain": [
       "Person_ID               17686\n",
       "Age                        52\n",
       "Gender                      3\n",
       "Region                      5\n",
       "Diet_Type                   3\n",
       "Primary_Cuisine             7\n",
       "Spice_Level                 3\n",
       "Daily_Calorie_Intake     2301\n",
       "Health_Impact               3\n",
       "Common_Diseases             4\n",
       "Exercise_Level              3\n",
       "BMI                       216\n",
       "Food_Frequency              6\n",
       "Sugar_Intake                3\n",
       "Salt_Intake                 3\n",
       "Health_Score              100\n",
       "dtype: int64"
      ]
     },
     "execution_count": 9,
     "metadata": {},
     "output_type": "execute_result"
    }
   ],
   "source": [
    "food_impact.nunique()"
   ]
  },
  {
   "cell_type": "code",
   "execution_count": 10,
   "id": "d5c7413a-0fd8-4908-927f-0f21463ec2f7",
   "metadata": {},
   "outputs": [
    {
     "data": {
      "text/plain": [
       "Person_ID                   0\n",
       "Age                         0\n",
       "Gender                      0\n",
       "Region                      0\n",
       "Diet_Type                   0\n",
       "Primary_Cuisine             0\n",
       "Spice_Level                 0\n",
       "Daily_Calorie_Intake        0\n",
       "Health_Impact               0\n",
       "Common_Diseases         10649\n",
       "Exercise_Level              0\n",
       "BMI                         0\n",
       "Food_Frequency              0\n",
       "Sugar_Intake                0\n",
       "Salt_Intake                 0\n",
       "Health_Score                0\n",
       "dtype: int64"
      ]
     },
     "execution_count": 10,
     "metadata": {},
     "output_type": "execute_result"
    }
   ],
   "source": [
    "food_impact.isnull().sum()"
   ]
  },
  {
   "cell_type": "markdown",
   "id": "648c8948-ff04-4d65-b53b-26cfb6c5f94d",
   "metadata": {},
   "source": [
    "- There are 6 categoricals variables and 10 numericals variables.\n",
    "\n",
    "- 'Food_Frequency' is considered as numerical column but take only 6 unique values. We can convert it as categorical \n",
    "\n",
    "- Many missing values in 'Common_Diseases' column"
   ]
  },
  {
   "cell_type": "code",
   "execution_count": 11,
   "id": "57b5603f-c47d-40ee-8d01-9b77d1445163",
   "metadata": {},
   "outputs": [
    {
     "data": {
      "text/plain": [
       "0"
      ]
     },
     "execution_count": 11,
     "metadata": {},
     "output_type": "execute_result"
    }
   ],
   "source": [
    "food_impact.duplicated().sum()"
   ]
  },
  {
   "cell_type": "code",
   "execution_count": 12,
   "id": "45dd698c-0ab7-4112-9d4f-6200ed44c45e",
   "metadata": {},
   "outputs": [],
   "source": [
    "# Copy of dataframe and lower case column\n",
    "\n",
    "df=food_impact.copy()\n",
    "df.columns=df.columns.str.lower()"
   ]
  },
  {
   "cell_type": "code",
   "execution_count": 13,
   "id": "232fdc05-c705-4b8a-b82f-885d61778987",
   "metadata": {},
   "outputs": [
    {
     "data": {
      "text/plain": [
       "60.21146669682235"
      ]
     },
     "execution_count": 13,
     "metadata": {},
     "output_type": "execute_result"
    }
   ],
   "source": [
    "# Proportion of null value in 'Common_Diseases' variable\n",
    "\n",
    "(food_impact['Common_Diseases'].isnull().sum()/len(food_impact))*100"
   ]
  },
  {
   "cell_type": "code",
   "execution_count": 14,
   "id": "ceb6b473-96a2-49e4-a546-845501c5ed14",
   "metadata": {},
   "outputs": [],
   "source": [
    "# 'common_diseases' 60% of values are missing, we can't drop the variable\n",
    "\n",
    "df=df.drop(columns='common_diseases') "
   ]
  },
  {
   "cell_type": "code",
   "execution_count": 15,
   "id": "b9145efa-c627-46d1-8275-a3ff26146549",
   "metadata": {},
   "outputs": [],
   "source": [
    "# 'person_id' does not provide any information in our database; we can drop it\n",
    "\n",
    "df=df.drop(columns='person_id') "
   ]
  },
  {
   "cell_type": "code",
   "execution_count": 16,
   "id": "d039a18b-cf35-461d-babf-3ebfcc00a84c",
   "metadata": {},
   "outputs": [],
   "source": [
    "# Convert 'food_frequency' as categorical \n",
    "\n",
    "df['food_frequency']=df['food_frequency'].astype('string')"
   ]
  },
  {
   "cell_type": "code",
   "execution_count": 17,
   "id": "8db2bdb5-6f0a-405a-86f9-01418d3931e5",
   "metadata": {},
   "outputs": [],
   "source": [
    "# Create a group of bmi ( mesure of the Body Mass Index)\n",
    "\n",
    "def bmi_group (bmi):\n",
    "    if bmi< 18.5:\n",
    "        return 'thinness'\n",
    "    elif 18.5 <= bmi < 25:\n",
    "        return 'Normal'\n",
    "    elif 25 <= bmi < 30:\n",
    "        return 'overweight'\n",
    "    elif 30 <= bmi < 40:\n",
    "        return 'moderate obesity'\n",
    "    else:\n",
    "        return 'morbid obesity'\n",
    "       "
   ]
  },
  {
   "cell_type": "code",
   "execution_count": 18,
   "id": "9ff6cedd-7369-427b-86ec-cce3ca616243",
   "metadata": {},
   "outputs": [],
   "source": [
    "# Apply the function to create the 'bmi_group' column\n",
    "df['bmi_group'] = df['bmi'].apply(bmi_group)"
   ]
  },
  {
   "cell_type": "code",
   "execution_count": 19,
   "id": "04c0db01-0e3e-4fdd-88eb-8ca52f037df8",
   "metadata": {},
   "outputs": [
    {
     "data": {
      "text/html": [
       "<div>\n",
       "<style scoped>\n",
       "    .dataframe tbody tr th:only-of-type {\n",
       "        vertical-align: middle;\n",
       "    }\n",
       "\n",
       "    .dataframe tbody tr th {\n",
       "        vertical-align: top;\n",
       "    }\n",
       "\n",
       "    .dataframe thead th {\n",
       "        text-align: right;\n",
       "    }\n",
       "</style>\n",
       "<table border=\"1\" class=\"dataframe\">\n",
       "  <thead>\n",
       "    <tr style=\"text-align: right;\">\n",
       "      <th></th>\n",
       "      <th>age</th>\n",
       "      <th>gender</th>\n",
       "      <th>region</th>\n",
       "      <th>diet_type</th>\n",
       "      <th>primary_cuisine</th>\n",
       "      <th>spice_level</th>\n",
       "      <th>daily_calorie_intake</th>\n",
       "      <th>health_impact</th>\n",
       "      <th>exercise_level</th>\n",
       "      <th>bmi</th>\n",
       "      <th>food_frequency</th>\n",
       "      <th>sugar_intake</th>\n",
       "      <th>salt_intake</th>\n",
       "      <th>health_score</th>\n",
       "      <th>bmi_group</th>\n",
       "    </tr>\n",
       "  </thead>\n",
       "  <tbody>\n",
       "    <tr>\n",
       "      <th>0</th>\n",
       "      <td>56</td>\n",
       "      <td>Female</td>\n",
       "      <td>East</td>\n",
       "      <td>Vegetarian</td>\n",
       "      <td>Gujarati</td>\n",
       "      <td>High</td>\n",
       "      <td>2768</td>\n",
       "      <td>Positive</td>\n",
       "      <td>Sedentary</td>\n",
       "      <td>37.3</td>\n",
       "      <td>5</td>\n",
       "      <td>Low</td>\n",
       "      <td>High</td>\n",
       "      <td>30</td>\n",
       "      <td>moderate obesity</td>\n",
       "    </tr>\n",
       "    <tr>\n",
       "      <th>1</th>\n",
       "      <td>69</td>\n",
       "      <td>Male</td>\n",
       "      <td>Central</td>\n",
       "      <td>Vegetarian</td>\n",
       "      <td>North Indian</td>\n",
       "      <td>Low</td>\n",
       "      <td>3005</td>\n",
       "      <td>Positive</td>\n",
       "      <td>Moderate</td>\n",
       "      <td>38.4</td>\n",
       "      <td>3</td>\n",
       "      <td>Low</td>\n",
       "      <td>Moderate</td>\n",
       "      <td>95</td>\n",
       "      <td>moderate obesity</td>\n",
       "    </tr>\n",
       "    <tr>\n",
       "      <th>2</th>\n",
       "      <td>46</td>\n",
       "      <td>Male</td>\n",
       "      <td>South</td>\n",
       "      <td>Vegetarian</td>\n",
       "      <td>Maharashtrian</td>\n",
       "      <td>Medium</td>\n",
       "      <td>3416</td>\n",
       "      <td>Positive</td>\n",
       "      <td>Sedentary</td>\n",
       "      <td>19.6</td>\n",
       "      <td>4</td>\n",
       "      <td>High</td>\n",
       "      <td>Low</td>\n",
       "      <td>86</td>\n",
       "      <td>Normal</td>\n",
       "    </tr>\n",
       "  </tbody>\n",
       "</table>\n",
       "</div>"
      ],
      "text/plain": [
       "   age  gender   region   diet_type primary_cuisine spice_level  \\\n",
       "0   56  Female     East  Vegetarian        Gujarati        High   \n",
       "1   69    Male  Central  Vegetarian    North Indian         Low   \n",
       "2   46    Male    South  Vegetarian   Maharashtrian      Medium   \n",
       "\n",
       "   daily_calorie_intake health_impact exercise_level   bmi food_frequency  \\\n",
       "0                  2768      Positive      Sedentary  37.3              5   \n",
       "1                  3005      Positive       Moderate  38.4              3   \n",
       "2                  3416      Positive      Sedentary  19.6              4   \n",
       "\n",
       "  sugar_intake salt_intake  health_score         bmi_group  \n",
       "0          Low        High            30  moderate obesity  \n",
       "1          Low    Moderate            95  moderate obesity  \n",
       "2         High         Low            86            Normal  "
      ]
     },
     "execution_count": 19,
     "metadata": {},
     "output_type": "execute_result"
    }
   ],
   "source": [
    "df.head(3)"
   ]
  },
  {
   "cell_type": "code",
   "execution_count": 20,
   "id": "739a0ea4-d0a7-40bd-9ddb-c922d97dda9f",
   "metadata": {},
   "outputs": [
    {
     "data": {
      "text/html": [
       "<div>\n",
       "<style scoped>\n",
       "    .dataframe tbody tr th:only-of-type {\n",
       "        vertical-align: middle;\n",
       "    }\n",
       "\n",
       "    .dataframe tbody tr th {\n",
       "        vertical-align: top;\n",
       "    }\n",
       "\n",
       "    .dataframe thead th {\n",
       "        text-align: right;\n",
       "    }\n",
       "</style>\n",
       "<table border=\"1\" class=\"dataframe\">\n",
       "  <thead>\n",
       "    <tr style=\"text-align: right;\">\n",
       "      <th></th>\n",
       "      <th>age</th>\n",
       "      <th>gender</th>\n",
       "      <th>region</th>\n",
       "      <th>diet_type</th>\n",
       "      <th>primary_cuisine</th>\n",
       "      <th>spice_level</th>\n",
       "      <th>daily_calorie_intake</th>\n",
       "      <th>health_impact</th>\n",
       "      <th>exercise_level</th>\n",
       "      <th>bmi</th>\n",
       "      <th>food_frequency</th>\n",
       "      <th>sugar_intake</th>\n",
       "      <th>salt_intake</th>\n",
       "      <th>health_score</th>\n",
       "      <th>bmi_group</th>\n",
       "    </tr>\n",
       "  </thead>\n",
       "  <tbody>\n",
       "    <tr>\n",
       "      <th>15401</th>\n",
       "      <td>45</td>\n",
       "      <td>Male</td>\n",
       "      <td>North</td>\n",
       "      <td>Vegetarian</td>\n",
       "      <td>Gujarati</td>\n",
       "      <td>Medium</td>\n",
       "      <td>2230</td>\n",
       "      <td>Neutral</td>\n",
       "      <td>Sedentary</td>\n",
       "      <td>22.5</td>\n",
       "      <td>6</td>\n",
       "      <td>Low</td>\n",
       "      <td>Moderate</td>\n",
       "      <td>48</td>\n",
       "      <td>Normal</td>\n",
       "    </tr>\n",
       "    <tr>\n",
       "      <th>11464</th>\n",
       "      <td>28</td>\n",
       "      <td>Male</td>\n",
       "      <td>South</td>\n",
       "      <td>Vegetarian</td>\n",
       "      <td>Punjabi</td>\n",
       "      <td>Medium</td>\n",
       "      <td>2959</td>\n",
       "      <td>Positive</td>\n",
       "      <td>Sedentary</td>\n",
       "      <td>26.2</td>\n",
       "      <td>3</td>\n",
       "      <td>Low</td>\n",
       "      <td>Low</td>\n",
       "      <td>7</td>\n",
       "      <td>overweight</td>\n",
       "    </tr>\n",
       "    <tr>\n",
       "      <th>5413</th>\n",
       "      <td>67</td>\n",
       "      <td>Female</td>\n",
       "      <td>North</td>\n",
       "      <td>Vegetarian</td>\n",
       "      <td>South Indian</td>\n",
       "      <td>High</td>\n",
       "      <td>2005</td>\n",
       "      <td>Negative</td>\n",
       "      <td>Moderate</td>\n",
       "      <td>35.3</td>\n",
       "      <td>3</td>\n",
       "      <td>High</td>\n",
       "      <td>Low</td>\n",
       "      <td>37</td>\n",
       "      <td>moderate obesity</td>\n",
       "    </tr>\n",
       "    <tr>\n",
       "      <th>4466</th>\n",
       "      <td>66</td>\n",
       "      <td>Male</td>\n",
       "      <td>West</td>\n",
       "      <td>Vegetarian</td>\n",
       "      <td>Maharashtrian</td>\n",
       "      <td>Medium</td>\n",
       "      <td>2530</td>\n",
       "      <td>Neutral</td>\n",
       "      <td>Active</td>\n",
       "      <td>30.3</td>\n",
       "      <td>6</td>\n",
       "      <td>Low</td>\n",
       "      <td>Moderate</td>\n",
       "      <td>65</td>\n",
       "      <td>moderate obesity</td>\n",
       "    </tr>\n",
       "    <tr>\n",
       "      <th>2496</th>\n",
       "      <td>61</td>\n",
       "      <td>Female</td>\n",
       "      <td>West</td>\n",
       "      <td>Vegan</td>\n",
       "      <td>North Indian</td>\n",
       "      <td>Medium</td>\n",
       "      <td>2233</td>\n",
       "      <td>Neutral</td>\n",
       "      <td>Moderate</td>\n",
       "      <td>22.3</td>\n",
       "      <td>4</td>\n",
       "      <td>Low</td>\n",
       "      <td>Moderate</td>\n",
       "      <td>81</td>\n",
       "      <td>Normal</td>\n",
       "    </tr>\n",
       "  </tbody>\n",
       "</table>\n",
       "</div>"
      ],
      "text/plain": [
       "       age  gender region   diet_type primary_cuisine spice_level  \\\n",
       "15401   45    Male  North  Vegetarian        Gujarati      Medium   \n",
       "11464   28    Male  South  Vegetarian         Punjabi      Medium   \n",
       "5413    67  Female  North  Vegetarian    South Indian        High   \n",
       "4466    66    Male   West  Vegetarian   Maharashtrian      Medium   \n",
       "2496    61  Female   West       Vegan    North Indian      Medium   \n",
       "\n",
       "       daily_calorie_intake health_impact exercise_level   bmi food_frequency  \\\n",
       "15401                  2230       Neutral      Sedentary  22.5              6   \n",
       "11464                  2959      Positive      Sedentary  26.2              3   \n",
       "5413                   2005      Negative       Moderate  35.3              3   \n",
       "4466                   2530       Neutral         Active  30.3              6   \n",
       "2496                   2233       Neutral       Moderate  22.3              4   \n",
       "\n",
       "      sugar_intake salt_intake  health_score         bmi_group  \n",
       "15401          Low    Moderate            48            Normal  \n",
       "11464          Low         Low             7        overweight  \n",
       "5413          High         Low            37  moderate obesity  \n",
       "4466           Low    Moderate            65  moderate obesity  \n",
       "2496           Low    Moderate            81            Normal  "
      ]
     },
     "execution_count": 20,
     "metadata": {},
     "output_type": "execute_result"
    }
   ],
   "source": [
    "df.sample(5)"
   ]
  },
  {
   "cell_type": "raw",
   "id": "928efc30-f89c-44f7-a423-8fdd438ba42a",
   "metadata": {},
   "source": [
    "'primary_cuisine' represent regional cuisines of India, each associated with a specific geographical and cultural area in the country"
   ]
  },
  {
   "cell_type": "markdown",
   "id": "e46a29d9-7d74-4203-8382-e01cc55542af",
   "metadata": {},
   "source": [
    "## <span style= \"color:violet\" > 03| EDA (Exploratory Data Analysis) </span>"
   ]
  },
  {
   "cell_type": "markdown",
   "id": "d8020b4c-57ba-4e82-975e-074ce46f428c",
   "metadata": {},
   "source": [
    "### Statistical information about categoricals columns"
   ]
  },
  {
   "cell_type": "markdown",
   "id": "73f4b5b5-a7c3-4ff6-bf0b-aefe8f518220",
   "metadata": {},
   "source": [
    "- Frequency tables. Counts and proportions"
   ]
  },
  {
   "cell_type": "code",
   "execution_count": 21,
   "id": "7fad0ecb-9d95-4977-9f85-4d16f7e6d70b",
   "metadata": {},
   "outputs": [
    {
     "data": {
      "text/html": [
       "<div>\n",
       "<style scoped>\n",
       "    .dataframe tbody tr th:only-of-type {\n",
       "        vertical-align: middle;\n",
       "    }\n",
       "\n",
       "    .dataframe tbody tr th {\n",
       "        vertical-align: top;\n",
       "    }\n",
       "\n",
       "    .dataframe thead th {\n",
       "        text-align: right;\n",
       "    }\n",
       "</style>\n",
       "<table border=\"1\" class=\"dataframe\">\n",
       "  <thead>\n",
       "    <tr style=\"text-align: right;\">\n",
       "      <th></th>\n",
       "      <th>gender</th>\n",
       "      <th>count</th>\n",
       "    </tr>\n",
       "  </thead>\n",
       "  <tbody>\n",
       "    <tr>\n",
       "      <th>0</th>\n",
       "      <td>Female</td>\n",
       "      <td>8522</td>\n",
       "    </tr>\n",
       "    <tr>\n",
       "      <th>1</th>\n",
       "      <td>Male</td>\n",
       "      <td>8422</td>\n",
       "    </tr>\n",
       "    <tr>\n",
       "      <th>2</th>\n",
       "      <td>Non-Binary</td>\n",
       "      <td>742</td>\n",
       "    </tr>\n",
       "  </tbody>\n",
       "</table>\n",
       "</div>"
      ],
      "text/plain": [
       "       gender  count\n",
       "0      Female   8522\n",
       "1        Male   8422\n",
       "2  Non-Binary    742"
      ]
     },
     "execution_count": 21,
     "metadata": {},
     "output_type": "execute_result"
    }
   ],
   "source": [
    "frequency_gender=df.gender.value_counts().reset_index()\n",
    "frequency_gender"
   ]
  },
  {
   "cell_type": "code",
   "execution_count": 22,
   "id": "f4128018-9748-42f6-90cf-a934a841ed94",
   "metadata": {},
   "outputs": [
    {
     "data": {
      "text/html": [
       "<div>\n",
       "<style scoped>\n",
       "    .dataframe tbody tr th:only-of-type {\n",
       "        vertical-align: middle;\n",
       "    }\n",
       "\n",
       "    .dataframe tbody tr th {\n",
       "        vertical-align: top;\n",
       "    }\n",
       "\n",
       "    .dataframe thead th {\n",
       "        text-align: right;\n",
       "    }\n",
       "</style>\n",
       "<table border=\"1\" class=\"dataframe\">\n",
       "  <thead>\n",
       "    <tr style=\"text-align: right;\">\n",
       "      <th></th>\n",
       "      <th>bmi_group</th>\n",
       "      <th>count</th>\n",
       "    </tr>\n",
       "  </thead>\n",
       "  <tbody>\n",
       "    <tr>\n",
       "      <th>0</th>\n",
       "      <td>moderate obesity</td>\n",
       "      <td>8236</td>\n",
       "    </tr>\n",
       "    <tr>\n",
       "      <th>1</th>\n",
       "      <td>Normal</td>\n",
       "      <td>5193</td>\n",
       "    </tr>\n",
       "    <tr>\n",
       "      <th>2</th>\n",
       "      <td>overweight</td>\n",
       "      <td>4212</td>\n",
       "    </tr>\n",
       "    <tr>\n",
       "      <th>3</th>\n",
       "      <td>morbid obesity</td>\n",
       "      <td>45</td>\n",
       "    </tr>\n",
       "  </tbody>\n",
       "</table>\n",
       "</div>"
      ],
      "text/plain": [
       "          bmi_group  count\n",
       "0  moderate obesity   8236\n",
       "1            Normal   5193\n",
       "2        overweight   4212\n",
       "3    morbid obesity     45"
      ]
     },
     "execution_count": 22,
     "metadata": {},
     "output_type": "execute_result"
    }
   ],
   "source": [
    "frequency_bmi=df.bmi_group.value_counts().reset_index()\n",
    "frequency_bmi"
   ]
  },
  {
   "cell_type": "code",
   "execution_count": 48,
   "id": "11396193-d6a8-4145-bf52-340f9ddf6b9f",
   "metadata": {},
   "outputs": [
    {
     "data": {
      "text/html": [
       "<div>\n",
       "<style scoped>\n",
       "    .dataframe tbody tr th:only-of-type {\n",
       "        vertical-align: middle;\n",
       "    }\n",
       "\n",
       "    .dataframe tbody tr th {\n",
       "        vertical-align: top;\n",
       "    }\n",
       "\n",
       "    .dataframe thead th {\n",
       "        text-align: right;\n",
       "    }\n",
       "</style>\n",
       "<table border=\"1\" class=\"dataframe\">\n",
       "  <thead>\n",
       "    <tr style=\"text-align: right;\">\n",
       "      <th></th>\n",
       "      <th>food_frequency</th>\n",
       "      <th>count</th>\n",
       "    </tr>\n",
       "  </thead>\n",
       "  <tbody>\n",
       "    <tr>\n",
       "      <th>0</th>\n",
       "      <td>5</td>\n",
       "      <td>3075</td>\n",
       "    </tr>\n",
       "    <tr>\n",
       "      <th>1</th>\n",
       "      <td>4</td>\n",
       "      <td>2971</td>\n",
       "    </tr>\n",
       "    <tr>\n",
       "      <th>2</th>\n",
       "      <td>6</td>\n",
       "      <td>2937</td>\n",
       "    </tr>\n",
       "    <tr>\n",
       "      <th>3</th>\n",
       "      <td>2</td>\n",
       "      <td>2931</td>\n",
       "    </tr>\n",
       "    <tr>\n",
       "      <th>4</th>\n",
       "      <td>3</td>\n",
       "      <td>2897</td>\n",
       "    </tr>\n",
       "    <tr>\n",
       "      <th>5</th>\n",
       "      <td>1</td>\n",
       "      <td>2875</td>\n",
       "    </tr>\n",
       "  </tbody>\n",
       "</table>\n",
       "</div>"
      ],
      "text/plain": [
       "  food_frequency  count\n",
       "0              5   3075\n",
       "1              4   2971\n",
       "2              6   2937\n",
       "3              2   2931\n",
       "4              3   2897\n",
       "5              1   2875"
      ]
     },
     "execution_count": 48,
     "metadata": {},
     "output_type": "execute_result"
    }
   ],
   "source": [
    "frequency_bmi=df.food_frequency.value_counts().reset_index()\n",
    "frequency_bmi"
   ]
  },
  {
   "cell_type": "markdown",
   "id": "3dbb660a-1258-4bfc-a8f6-58ee940c1612",
   "metadata": {},
   "source": [
    "- Diet_type and bmi_group"
   ]
  },
  {
   "cell_type": "code",
   "execution_count": 23,
   "id": "a72f972b-2c88-4d3f-8bd3-c9a165e02678",
   "metadata": {},
   "outputs": [
    {
     "data": {
      "text/html": [
       "<div>\n",
       "<style scoped>\n",
       "    .dataframe tbody tr th:only-of-type {\n",
       "        vertical-align: middle;\n",
       "    }\n",
       "\n",
       "    .dataframe tbody tr th {\n",
       "        vertical-align: top;\n",
       "    }\n",
       "\n",
       "    .dataframe thead th {\n",
       "        text-align: right;\n",
       "    }\n",
       "</style>\n",
       "<table border=\"1\" class=\"dataframe\">\n",
       "  <thead>\n",
       "    <tr style=\"text-align: right;\">\n",
       "      <th>bmi_group</th>\n",
       "      <th>Normal</th>\n",
       "      <th>moderate obesity</th>\n",
       "      <th>morbid obesity</th>\n",
       "      <th>overweight</th>\n",
       "    </tr>\n",
       "    <tr>\n",
       "      <th>diet_type</th>\n",
       "      <th></th>\n",
       "      <th></th>\n",
       "      <th></th>\n",
       "      <th></th>\n",
       "    </tr>\n",
       "  </thead>\n",
       "  <tbody>\n",
       "    <tr>\n",
       "      <th>Non-Vegetarian</th>\n",
       "      <td>2143</td>\n",
       "      <td>3351</td>\n",
       "      <td>28</td>\n",
       "      <td>1665</td>\n",
       "    </tr>\n",
       "    <tr>\n",
       "      <th>Vegan</th>\n",
       "      <td>261</td>\n",
       "      <td>384</td>\n",
       "      <td>0</td>\n",
       "      <td>225</td>\n",
       "    </tr>\n",
       "    <tr>\n",
       "      <th>Vegetarian</th>\n",
       "      <td>2789</td>\n",
       "      <td>4501</td>\n",
       "      <td>17</td>\n",
       "      <td>2322</td>\n",
       "    </tr>\n",
       "  </tbody>\n",
       "</table>\n",
       "</div>"
      ],
      "text/plain": [
       "bmi_group       Normal  moderate obesity  morbid obesity  overweight\n",
       "diet_type                                                           \n",
       "Non-Vegetarian    2143              3351              28        1665\n",
       "Vegan              261               384               0         225\n",
       "Vegetarian        2789              4501              17        2322"
      ]
     },
     "execution_count": 23,
     "metadata": {},
     "output_type": "execute_result"
    }
   ],
   "source": [
    "crosstab_result1 = pd.crosstab(df['diet_type'], df['bmi_group'])\n",
    "crosstab_result1"
   ]
  },
  {
   "cell_type": "code",
   "execution_count": 24,
   "id": "0696d75e-bbd2-4f26-8c9d-abb74f34c1de",
   "metadata": {},
   "outputs": [
    {
     "data": {
      "text/plain": [
       "<Figure size 600x400 with 0 Axes>"
      ]
     },
     "metadata": {},
     "output_type": "display_data"
    },
    {
     "data": {
      "image/png": "[encoded data removed]",
      "text/plain": [
       "<Figure size 640x480 with 1 Axes>"
      ]
     },
     "metadata": {},
     "output_type": "display_data"
    }
   ],
   "source": [
    "plt.figure(figsize=(6, 4))\n",
    "\n",
    "crosstab_result1.plot(kind='bar',\n",
    "                    color=['#49ab52', '#bdb82b', '#1f77b4', '#bd662b'], edgecolor='black' )\n",
    "\n",
    "\n",
    "# Add title and labels\n",
    "plt.title('Distribution of BMI groups By Diet Type', fontsize=12)  # Add a descriptive title\n",
    "plt.xlabel('Categories', fontsize=10)  # Label for the x-axis\n",
    "plt.ylabel('Frequency', fontsize=10)  # Label for the y-axis\n",
    "\n",
    "# Add grid for better readability\n",
    "plt.grid(axis='y', linestyle='--', alpha=0.7)\n",
    "\n",
    "# Customize legend\n",
    "plt.legend(title='Groups', fontsize=10, title_fontsize=10, loc='best')  # Improve legend readability\n",
    "\n",
    "# Rotate x-axis labels for clarity\n",
    "plt.xticks(rotation=0, fontsize=10)\n",
    "\n",
    "# Adjust layout for better spacing\n",
    "plt.tight_layout()\n",
    "\n",
    "plt.show()"
   ]
  },
  {
   "cell_type": "markdown",
   "id": "d2ce500e-740c-4e77-a0a5-e4cf0c74d0b1",
   "metadata": {},
   "source": [
    "Moderate Obesity dominates across all diet types, with Vegetarians having the highest count.\n",
    "\n",
    "Non-Vegetarians also show a high count, while Vegans have a comparatively lower frequency."
   ]
  },
  {
   "cell_type": "markdown",
   "id": "33116bc0-38fd-4744-ab59-5ecb9d3c80bc",
   "metadata": {},
   "source": [
    "- Exercice_level and bmi_group"
   ]
  },
  {
   "cell_type": "code",
   "execution_count": 25,
   "id": "9bb4e21e-fc8c-4c44-91a6-b734acac2df2",
   "metadata": {},
   "outputs": [
    {
     "data": {
      "text/html": [
       "<div>\n",
       "<style scoped>\n",
       "    .dataframe tbody tr th:only-of-type {\n",
       "        vertical-align: middle;\n",
       "    }\n",
       "\n",
       "    .dataframe tbody tr th {\n",
       "        vertical-align: top;\n",
       "    }\n",
       "\n",
       "    .dataframe thead th {\n",
       "        text-align: right;\n",
       "    }\n",
       "</style>\n",
       "<table border=\"1\" class=\"dataframe\">\n",
       "  <thead>\n",
       "    <tr style=\"text-align: right;\">\n",
       "      <th>bmi_group</th>\n",
       "      <th>Normal</th>\n",
       "      <th>moderate obesity</th>\n",
       "      <th>morbid obesity</th>\n",
       "      <th>overweight</th>\n",
       "    </tr>\n",
       "    <tr>\n",
       "      <th>exercise_level</th>\n",
       "      <th></th>\n",
       "      <th></th>\n",
       "      <th></th>\n",
       "      <th></th>\n",
       "    </tr>\n",
       "  </thead>\n",
       "  <tbody>\n",
       "    <tr>\n",
       "      <th>Active</th>\n",
       "      <td>1051</td>\n",
       "      <td>1656</td>\n",
       "      <td>14</td>\n",
       "      <td>847</td>\n",
       "    </tr>\n",
       "    <tr>\n",
       "      <th>Moderate</th>\n",
       "      <td>1577</td>\n",
       "      <td>2478</td>\n",
       "      <td>11</td>\n",
       "      <td>1298</td>\n",
       "    </tr>\n",
       "    <tr>\n",
       "      <th>Sedentary</th>\n",
       "      <td>2565</td>\n",
       "      <td>4102</td>\n",
       "      <td>20</td>\n",
       "      <td>2067</td>\n",
       "    </tr>\n",
       "  </tbody>\n",
       "</table>\n",
       "</div>"
      ],
      "text/plain": [
       "bmi_group       Normal  moderate obesity  morbid obesity  overweight\n",
       "exercise_level                                                      \n",
       "Active            1051              1656              14         847\n",
       "Moderate          1577              2478              11        1298\n",
       "Sedentary         2565              4102              20        2067"
      ]
     },
     "execution_count": 25,
     "metadata": {},
     "output_type": "execute_result"
    }
   ],
   "source": [
    "crosstab_result2 = pd.crosstab(df['exercise_level'], df['bmi_group'])\n",
    "crosstab_result2"
   ]
  },
  {
   "cell_type": "code",
   "execution_count": 47,
   "id": "1765f530-1512-4389-8cbf-fd058e8ebfc7",
   "metadata": {},
   "outputs": [
    {
     "data": {
      "image/png": "[encoded data removed]",
      "text/plain": [
       "<Figure size 600x400 with 2 Axes>"
      ]
     },
     "metadata": {},
     "output_type": "display_data"
    }
   ],
   "source": [
    "### plt.figure(figsize=(6, 4))\n",
    "\n",
    "plt.title('Distribution of Individuals By BMI group and Exercise Levels', fontsize=12)\n",
    "sns.heatmap(crosstab_result2, annot=True, cmap=\"Greens\", fmt=\"d\")\n",
    "plt.xticks(rotation=45, fontsize=9)\n",
    "plt.show()"
   ]
  },
  {
   "cell_type": "markdown",
   "id": "aaf9761b-d949-405f-85f9-221be19d6a04",
   "metadata": {},
   "source": [
    "- bmi_group and health_impact"
   ]
  },
  {
   "cell_type": "code",
   "execution_count": 27,
   "id": "40f1430c-1c4e-4eb0-a6d1-bda05992e646",
   "metadata": {},
   "outputs": [
    {
     "data": {
      "text/html": [
       "<div>\n",
       "<style scoped>\n",
       "    .dataframe tbody tr th:only-of-type {\n",
       "        vertical-align: middle;\n",
       "    }\n",
       "\n",
       "    .dataframe tbody tr th {\n",
       "        vertical-align: top;\n",
       "    }\n",
       "\n",
       "    .dataframe thead th {\n",
       "        text-align: right;\n",
       "    }\n",
       "</style>\n",
       "<table border=\"1\" class=\"dataframe\">\n",
       "  <thead>\n",
       "    <tr style=\"text-align: right;\">\n",
       "      <th>health_impact</th>\n",
       "      <th>Negative</th>\n",
       "      <th>Neutral</th>\n",
       "      <th>Positive</th>\n",
       "    </tr>\n",
       "    <tr>\n",
       "      <th>bmi_group</th>\n",
       "      <th></th>\n",
       "      <th></th>\n",
       "      <th></th>\n",
       "    </tr>\n",
       "  </thead>\n",
       "  <tbody>\n",
       "    <tr>\n",
       "      <th>Normal</th>\n",
       "      <td>1111</td>\n",
       "      <td>2254</td>\n",
       "      <td>1828</td>\n",
       "    </tr>\n",
       "    <tr>\n",
       "      <th>moderate obesity</th>\n",
       "      <td>1642</td>\n",
       "      <td>3756</td>\n",
       "      <td>2838</td>\n",
       "    </tr>\n",
       "    <tr>\n",
       "      <th>morbid obesity</th>\n",
       "      <td>11</td>\n",
       "      <td>22</td>\n",
       "      <td>12</td>\n",
       "    </tr>\n",
       "    <tr>\n",
       "      <th>overweight</th>\n",
       "      <td>863</td>\n",
       "      <td>1836</td>\n",
       "      <td>1513</td>\n",
       "    </tr>\n",
       "  </tbody>\n",
       "</table>\n",
       "</div>"
      ],
      "text/plain": [
       "health_impact     Negative  Neutral  Positive\n",
       "bmi_group                                    \n",
       "Normal                1111     2254      1828\n",
       "moderate obesity      1642     3756      2838\n",
       "morbid obesity          11       22        12\n",
       "overweight             863     1836      1513"
      ]
     },
     "execution_count": 27,
     "metadata": {},
     "output_type": "execute_result"
    }
   ],
   "source": [
    "crosstab_result4 = pd.crosstab(df['bmi_group'], df['health_impact'])\n",
    "crosstab_result4"
   ]
  },
  {
   "cell_type": "markdown",
   "id": "e33400ad-ec49-44d9-b232-5bcc635f998f",
   "metadata": {},
   "source": [
    "   ### Statistical information about the numerical columns"
   ]
  },
  {
   "cell_type": "code",
   "execution_count": 28,
   "id": "0bb581b8-154c-4081-9ef4-a28d3feac57e",
   "metadata": {},
   "outputs": [
    {
     "data": {
      "text/html": [
       "<div>\n",
       "<style scoped>\n",
       "    .dataframe tbody tr th:only-of-type {\n",
       "        vertical-align: middle;\n",
       "    }\n",
       "\n",
       "    .dataframe tbody tr th {\n",
       "        vertical-align: top;\n",
       "    }\n",
       "\n",
       "    .dataframe thead th {\n",
       "        text-align: right;\n",
       "    }\n",
       "</style>\n",
       "<table border=\"1\" class=\"dataframe\">\n",
       "  <thead>\n",
       "    <tr style=\"text-align: right;\">\n",
       "      <th></th>\n",
       "      <th>age</th>\n",
       "      <th>daily_calorie_intake</th>\n",
       "      <th>bmi</th>\n",
       "      <th>health_score</th>\n",
       "    </tr>\n",
       "  </thead>\n",
       "  <tbody>\n",
       "    <tr>\n",
       "      <th>count</th>\n",
       "      <td>17686.0</td>\n",
       "      <td>17686.0</td>\n",
       "      <td>17686.0</td>\n",
       "      <td>17686.0</td>\n",
       "    </tr>\n",
       "    <tr>\n",
       "      <th>mean</th>\n",
       "      <td>43.0</td>\n",
       "      <td>2359.0</td>\n",
       "      <td>29.0</td>\n",
       "      <td>51.0</td>\n",
       "    </tr>\n",
       "    <tr>\n",
       "      <th>std</th>\n",
       "      <td>15.0</td>\n",
       "      <td>660.0</td>\n",
       "      <td>6.0</td>\n",
       "      <td>29.0</td>\n",
       "    </tr>\n",
       "    <tr>\n",
       "      <th>min</th>\n",
       "      <td>18.0</td>\n",
       "      <td>1200.0</td>\n",
       "      <td>18.0</td>\n",
       "      <td>1.0</td>\n",
       "    </tr>\n",
       "    <tr>\n",
       "      <th>25%</th>\n",
       "      <td>31.0</td>\n",
       "      <td>1791.0</td>\n",
       "      <td>24.0</td>\n",
       "      <td>26.0</td>\n",
       "    </tr>\n",
       "    <tr>\n",
       "      <th>50%</th>\n",
       "      <td>43.0</td>\n",
       "      <td>2368.0</td>\n",
       "      <td>29.0</td>\n",
       "      <td>51.0</td>\n",
       "    </tr>\n",
       "    <tr>\n",
       "      <th>75%</th>\n",
       "      <td>56.0</td>\n",
       "      <td>2929.0</td>\n",
       "      <td>35.0</td>\n",
       "      <td>76.0</td>\n",
       "    </tr>\n",
       "    <tr>\n",
       "      <th>max</th>\n",
       "      <td>69.0</td>\n",
       "      <td>3500.0</td>\n",
       "      <td>40.0</td>\n",
       "      <td>100.0</td>\n",
       "    </tr>\n",
       "  </tbody>\n",
       "</table>\n",
       "</div>"
      ],
      "text/plain": [
       "           age  daily_calorie_intake      bmi  health_score\n",
       "count  17686.0               17686.0  17686.0       17686.0\n",
       "mean      43.0                2359.0     29.0          51.0\n",
       "std       15.0                 660.0      6.0          29.0\n",
       "min       18.0                1200.0     18.0           1.0\n",
       "25%       31.0                1791.0     24.0          26.0\n",
       "50%       43.0                2368.0     29.0          51.0\n",
       "75%       56.0                2929.0     35.0          76.0\n",
       "max       69.0                3500.0     40.0         100.0"
      ]
     },
     "execution_count": 28,
     "metadata": {},
     "output_type": "execute_result"
    }
   ],
   "source": [
    "round(df.describe(),0)"
   ]
  },
  {
   "cell_type": "markdown",
   "id": "8aaec632-04d2-4f8b-aefc-ea368cd62164",
   "metadata": {},
   "source": [
    "The medium age of the population is 43 years old, the min is 18 and the max is 69. \n",
    "\n",
    "The average daily calories intake is 2359. The value depend on food frequency, diet type. \n",
    "\n",
    "Bmi(body masss index) commonly used to determine the body mass (thin, normal, obesity ...). The bmi mean is 29  than means, in average, the population of dataset is on overweight  \n",
    "\n",
    "The health score is a a numeric variable that measured the level of health. It combine several attributes into a single metric (e.g., weight, exercise frequency, and calorie intake). The health_score is between 0 and 100. In these dataset, the average health score of population is 51.\n",
    "\n"
   ]
  },
  {
   "cell_type": "code",
   "execution_count": 29,
   "id": "2fb296e3-a010-4425-b841-1b068f256579",
   "metadata": {},
   "outputs": [
    {
     "name": "stdout",
     "output_type": "stream",
     "text": [
      " the skewness is -0.02 and the kurtosis is -1.2\n"
     ]
    }
   ],
   "source": [
    "skewness= df.health_score.skew().round(2)\n",
    "kurtosis= df.health_score.kurtosis().round(2)\n",
    "print(f' the skewness is {skewness} and the kurtosis is {kurtosis}')"
   ]
  },
  {
   "cell_type": "markdown",
   "id": "86d74fe4-628d-4f78-8bad-87bf5ceb1f4d",
   "metadata": {},
   "source": [
    "The skewness is close to 0, indicating that the data distribution is almost perfectly symmetric. It's nearly normal (bell-shaped) in terms of symmetry.\n",
    "\n",
    "A kurtosis of -1.2 indicates a platykurtic distribution:\n",
    "the tails are lighter (less extreme outliers) than a normal distribution.\n"
   ]
  },
  {
   "cell_type": "markdown",
   "id": "dc1e0158-d709-4e65-8595-7bf4ff927d36",
   "metadata": {},
   "source": [
    "### Data visualization"
   ]
  },
  {
   "cell_type": "code",
   "execution_count": 30,
   "id": "351a6d68-bb62-4d2c-855a-2698688e68a7",
   "metadata": {},
   "outputs": [],
   "source": [
    "num= df.select_dtypes(include=\"number\")"
   ]
  },
  {
   "cell_type": "code",
   "execution_count": 31,
   "id": "01dc5af3-ea80-4f8b-b695-54e242280470",
   "metadata": {},
   "outputs": [
    {
     "data": {
      "text/plain": [
       "(17686, 4)"
      ]
     },
     "execution_count": 31,
     "metadata": {},
     "output_type": "execute_result"
    }
   ],
   "source": [
    "num.shape"
   ]
  },
  {
   "cell_type": "code",
   "execution_count": 32,
   "id": "27c01164-6e63-4cc0-a42a-868ec2de84fe",
   "metadata": {},
   "outputs": [
    {
     "data": {
      "text/plain": [
       "Index(['age', 'daily_calorie_intake', 'bmi', 'health_score'], dtype='object')"
      ]
     },
     "execution_count": 32,
     "metadata": {},
     "output_type": "execute_result"
    }
   ],
   "source": [
    "num.columns"
   ]
  },
  {
   "cell_type": "code",
   "execution_count": 33,
   "id": "2f2f1080-d93e-4cb3-82e9-b456b565e4e1",
   "metadata": {},
   "outputs": [
    {
     "data": {
      "image/png": "[encoded data removed]",
      "text/plain": [
       "<Figure size 2000x1600 with 25 Axes>"
      ]
     },
     "metadata": {},
     "output_type": "display_data"
    }
   ],
   "source": [
    "color = '#ffd447'\n",
    "\n",
    "# grid size\n",
    "nrows, ncols = 5, 5  # adjust for your number of features\n",
    "\n",
    "fig, axes = plt.subplots(nrows=nrows, ncols=ncols, figsize=(20, 16))\n",
    "\n",
    "axes = axes.flatten()\n",
    "\n",
    "# Plot each numerical feature\n",
    "for i, ax in enumerate(axes):\n",
    "    if i >= len(num.columns):\n",
    "        ax.set_visible(False)  # hide unesed plots\n",
    "        continue\n",
    "    ax.hist(num.iloc[:, i], bins=30, color=color, edgecolor='black')\n",
    "    ax.set_title(num.columns[i])\n",
    "\n",
    "plt.tight_layout()\n",
    "plt.show()"
   ]
  },
  {
   "cell_type": "code",
   "execution_count": 34,
   "id": "0ff63dc4-befd-46df-bd31-5764ec00d665",
   "metadata": {},
   "outputs": [
    {
     "data": {
      "image/png": "[encoded data removed]",
      "text/plain": [
       "<Figure size 500x400 with 1 Axes>"
      ]
     },
     "metadata": {},
     "output_type": "display_data"
    }
   ],
   "source": [
    "plt.figure(figsize=(5, 4))  \n",
    "\n",
    "sns.barplot(data=df, x=\"bmi_group\", y=\"health_score\", palette=\"colorblind\")\n",
    "plt.title(\"Average Health Score By BMI Groups\", fontsize=11)\n",
    "plt.xlabel(\"Health Score\", fontsize=10)\n",
    "plt.ylabel(\"BMI Group\", fontsize=9)\n",
    "plt.show()"
   ]
  },
  {
   "cell_type": "markdown",
   "id": "9b2ad39a-e158-42ea-9cc7-ae26ffd4f4ac",
   "metadata": {},
   "source": [
    "The average health scores across the groups seem to be quite similar, with no dramatic differences between the BMI groups.\n",
    "\n",
    "The group with morbid obesity shows slightly more variability (larger error bar), indicating a wider range of health scores within this category."
   ]
  },
  {
   "cell_type": "code",
   "execution_count": 35,
   "id": "c1bb4481-ddeb-45c7-b31c-1b576a68d250",
   "metadata": {},
   "outputs": [
    {
     "data": {
      "text/html": [
       "<div>\n",
       "<style scoped>\n",
       "    .dataframe tbody tr th:only-of-type {\n",
       "        vertical-align: middle;\n",
       "    }\n",
       "\n",
       "    .dataframe tbody tr th {\n",
       "        vertical-align: top;\n",
       "    }\n",
       "\n",
       "    .dataframe thead th {\n",
       "        text-align: right;\n",
       "    }\n",
       "</style>\n",
       "<table border=\"1\" class=\"dataframe\">\n",
       "  <thead>\n",
       "    <tr style=\"text-align: right;\">\n",
       "      <th></th>\n",
       "      <th>health_impact</th>\n",
       "      <th>daily_calorie_intake</th>\n",
       "    </tr>\n",
       "  </thead>\n",
       "  <tbody>\n",
       "    <tr>\n",
       "      <th>0</th>\n",
       "      <td>Negative</td>\n",
       "      <td>2373.94</td>\n",
       "    </tr>\n",
       "    <tr>\n",
       "      <th>1</th>\n",
       "      <td>Neutral</td>\n",
       "      <td>2359.00</td>\n",
       "    </tr>\n",
       "    <tr>\n",
       "      <th>2</th>\n",
       "      <td>Positive</td>\n",
       "      <td>2350.36</td>\n",
       "    </tr>\n",
       "  </tbody>\n",
       "</table>\n",
       "</div>"
      ],
      "text/plain": [
       "  health_impact  daily_calorie_intake\n",
       "0      Negative               2373.94\n",
       "1       Neutral               2359.00\n",
       "2      Positive               2350.36"
      ]
     },
     "execution_count": 35,
     "metadata": {},
     "output_type": "execute_result"
    }
   ],
   "source": [
    "round(df.groupby('health_impact')['daily_calorie_intake'].mean(),2).reset_index()"
   ]
  },
  {
   "cell_type": "code",
   "execution_count": 36,
   "id": "b322e188-a803-46d4-96d3-8a10028d8f13",
   "metadata": {},
   "outputs": [
    {
     "data": {
      "text/html": [
       "<div>\n",
       "<style scoped>\n",
       "    .dataframe tbody tr th:only-of-type {\n",
       "        vertical-align: middle;\n",
       "    }\n",
       "\n",
       "    .dataframe tbody tr th {\n",
       "        vertical-align: top;\n",
       "    }\n",
       "\n",
       "    .dataframe thead th {\n",
       "        text-align: right;\n",
       "    }\n",
       "</style>\n",
       "<table border=\"1\" class=\"dataframe\">\n",
       "  <thead>\n",
       "    <tr style=\"text-align: right;\">\n",
       "      <th></th>\n",
       "      <th>health_impact</th>\n",
       "      <th>bmi</th>\n",
       "    </tr>\n",
       "  </thead>\n",
       "  <tbody>\n",
       "    <tr>\n",
       "      <th>0</th>\n",
       "      <td>Negative</td>\n",
       "      <td>29.13</td>\n",
       "    </tr>\n",
       "    <tr>\n",
       "      <th>1</th>\n",
       "      <td>Neutral</td>\n",
       "      <td>29.43</td>\n",
       "    </tr>\n",
       "    <tr>\n",
       "      <th>2</th>\n",
       "      <td>Positive</td>\n",
       "      <td>29.18</td>\n",
       "    </tr>\n",
       "  </tbody>\n",
       "</table>\n",
       "</div>"
      ],
      "text/plain": [
       "  health_impact    bmi\n",
       "0      Negative  29.13\n",
       "1       Neutral  29.43\n",
       "2      Positive  29.18"
      ]
     },
     "execution_count": 36,
     "metadata": {},
     "output_type": "execute_result"
    }
   ],
   "source": [
    "round(df.groupby('health_impact')['bmi'].mean(),2).reset_index()"
   ]
  },
  {
   "cell_type": "code",
   "execution_count": 50,
   "id": "5162aacb-09aa-48eb-a988-926ff0d59af9",
   "metadata": {},
   "outputs": [
    {
     "data": {
      "text/plain": [
       "Index(['age', 'gender', 'region', 'diet_type', 'primary_cuisine',\n",
       "       'spice_level', 'daily_calorie_intake', 'health_impact',\n",
       "       'exercise_level', 'bmi', 'food_frequency', 'sugar_intake',\n",
       "       'salt_intake', 'health_score', 'bmi_group'],\n",
       "      dtype='object')"
      ]
     },
     "execution_count": 50,
     "metadata": {},
     "output_type": "execute_result"
    }
   ],
   "source": [
    "df.columns"
   ]
  },
  {
   "cell_type": "code",
   "execution_count": 53,
   "id": "f85e8830-4d33-4e39-a38b-5b9f5de47cde",
   "metadata": {},
   "outputs": [
    {
     "data": {
      "text/html": [
       "<div>\n",
       "<style scoped>\n",
       "    .dataframe tbody tr th:only-of-type {\n",
       "        vertical-align: middle;\n",
       "    }\n",
       "\n",
       "    .dataframe tbody tr th {\n",
       "        vertical-align: top;\n",
       "    }\n",
       "\n",
       "    .dataframe thead th {\n",
       "        text-align: right;\n",
       "    }\n",
       "</style>\n",
       "<table border=\"1\" class=\"dataframe\">\n",
       "  <thead>\n",
       "    <tr style=\"text-align: right;\">\n",
       "      <th></th>\n",
       "      <th>food_frequency</th>\n",
       "      <th>daily_calorie_intake</th>\n",
       "    </tr>\n",
       "  </thead>\n",
       "  <tbody>\n",
       "    <tr>\n",
       "      <th>0</th>\n",
       "      <td>1</td>\n",
       "      <td>2355.54</td>\n",
       "    </tr>\n",
       "    <tr>\n",
       "      <th>1</th>\n",
       "      <td>2</td>\n",
       "      <td>2353.19</td>\n",
       "    </tr>\n",
       "    <tr>\n",
       "      <th>2</th>\n",
       "      <td>3</td>\n",
       "      <td>2367.48</td>\n",
       "    </tr>\n",
       "    <tr>\n",
       "      <th>3</th>\n",
       "      <td>4</td>\n",
       "      <td>2355.60</td>\n",
       "    </tr>\n",
       "    <tr>\n",
       "      <th>4</th>\n",
       "      <td>5</td>\n",
       "      <td>2376.77</td>\n",
       "    </tr>\n",
       "    <tr>\n",
       "      <th>5</th>\n",
       "      <td>6</td>\n",
       "      <td>2344.89</td>\n",
       "    </tr>\n",
       "  </tbody>\n",
       "</table>\n",
       "</div>"
      ],
      "text/plain": [
       "  food_frequency  daily_calorie_intake\n",
       "0              1               2355.54\n",
       "1              2               2353.19\n",
       "2              3               2367.48\n",
       "3              4               2355.60\n",
       "4              5               2376.77\n",
       "5              6               2344.89"
      ]
     },
     "execution_count": 53,
     "metadata": {},
     "output_type": "execute_result"
    }
   ],
   "source": [
    "round(df.groupby('food_frequency')['daily_calorie_intake'].mean(),2).reset_index()"
   ]
  },
  {
   "cell_type": "markdown",
   "id": "a938db03-d5d0-4f96-8cfc-99d15ffb0de8",
   "metadata": {},
   "source": [
    "The highest average calorie intake (2,376.77) is associated with individuals eating five times a day.\n",
    "\n",
    "The lowest average calorie intake (2,344.89) is linked to individuals eating six times a day.\n",
    "\n",
    "Food frequency does not show a drastic difference in calorie intake, suggesting that the total daily intake is relatively stable regardless of how meals are distributed."
   ]
  },
  {
   "cell_type": "code",
   "execution_count": 54,
   "id": "e3e7f9ce-461e-48b0-b8e6-e22d78d962dc",
   "metadata": {},
   "outputs": [
    {
     "data": {
      "text/html": [
       "<div>\n",
       "<style scoped>\n",
       "    .dataframe tbody tr th:only-of-type {\n",
       "        vertical-align: middle;\n",
       "    }\n",
       "\n",
       "    .dataframe tbody tr th {\n",
       "        vertical-align: top;\n",
       "    }\n",
       "\n",
       "    .dataframe thead th {\n",
       "        text-align: right;\n",
       "    }\n",
       "</style>\n",
       "<table border=\"1\" class=\"dataframe\">\n",
       "  <thead>\n",
       "    <tr style=\"text-align: right;\">\n",
       "      <th></th>\n",
       "      <th>diet_type</th>\n",
       "      <th>daily_calorie_intake</th>\n",
       "    </tr>\n",
       "  </thead>\n",
       "  <tbody>\n",
       "    <tr>\n",
       "      <th>0</th>\n",
       "      <td>Non-Vegetarian</td>\n",
       "      <td>2363.53</td>\n",
       "    </tr>\n",
       "    <tr>\n",
       "      <th>1</th>\n",
       "      <td>Vegan</td>\n",
       "      <td>2348.16</td>\n",
       "    </tr>\n",
       "    <tr>\n",
       "      <th>2</th>\n",
       "      <td>Vegetarian</td>\n",
       "      <td>2356.67</td>\n",
       "    </tr>\n",
       "  </tbody>\n",
       "</table>\n",
       "</div>"
      ],
      "text/plain": [
       "        diet_type  daily_calorie_intake\n",
       "0  Non-Vegetarian               2363.53\n",
       "1           Vegan               2348.16\n",
       "2      Vegetarian               2356.67"
      ]
     },
     "execution_count": 54,
     "metadata": {},
     "output_type": "execute_result"
    }
   ],
   "source": [
    "round(df.groupby('diet_type')['daily_calorie_intake'].mean(),2).reset_index()"
   ]
  },
  {
   "cell_type": "code",
   "execution_count": 38,
   "id": "b479c11a-883e-4878-bb78-230fa4fd9c51",
   "metadata": {},
   "outputs": [
    {
     "name": "stderr",
     "output_type": "stream",
     "text": [
      "C:\\ProgramData\\anaconda3\\Lib\\site-packages\\seaborn\\_oldcore.py:1119: FutureWarning: use_inf_as_na option is deprecated and will be removed in a future version. Convert inf values to NaN before operating instead.\n",
      "  with pd.option_context('mode.use_inf_as_na', True):\n"
     ]
    },
    {
     "data": {
      "image/png": "[encoded data removed]",
      "text/plain": [
       "<Figure size 500x400 with 1 Axes>"
      ]
     },
     "metadata": {},
     "output_type": "display_data"
    }
   ],
   "source": [
    "plt.figure(figsize=(5, 4))  \n",
    "\n",
    "sns.histplot(df[\"health_score\"], color=\"orange\", bins=50, kde=True)\n",
    "plt.title(\"Distribution of Health Score\", fontsize=11)\n",
    "plt.xlabel(\"Health Score\", fontsize=10)\n",
    "plt.ylabel(\"Frequency\", fontsize=9)\n",
    "plt.grid(False)\n",
    "plt.tight_layout()  \n",
    "plt.show()"
   ]
  },
  {
   "cell_type": "code",
   "execution_count": 39,
   "id": "c6105b7f-29c5-45e4-a5b9-e24ac418f327",
   "metadata": {},
   "outputs": [
    {
     "name": "stderr",
     "output_type": "stream",
     "text": [
      "C:\\ProgramData\\anaconda3\\Lib\\site-packages\\seaborn\\_oldcore.py:1119: FutureWarning: use_inf_as_na option is deprecated and will be removed in a future version. Convert inf values to NaN before operating instead.\n",
      "  with pd.option_context('mode.use_inf_as_na', True):\n"
     ]
    },
    {
     "data": {
      "image/png": "[encoded data removed]",
      "text/plain": [
       "<Figure size 700x500 with 1 Axes>"
      ]
     },
     "metadata": {},
     "output_type": "display_data"
    }
   ],
   "source": [
    "plt.figure(figsize=(7, 5))  \n",
    "\n",
    "sns.histplot(df[\"daily_calorie_intake\"], color=\"blue\", bins=50, kde=True)\n",
    "plt.title(\"Distribution of Daily Calorie Intake\", fontsize=11)\n",
    "plt.xlabel(\"Amount\", fontsize=10)\n",
    "plt.ylabel(\"Frequency\", fontsize=9)\n",
    "plt.grid(False)\n",
    "plt.tight_layout()  \n",
    "plt.show()"
   ]
  },
  {
   "cell_type": "code",
   "execution_count": 40,
   "id": "0ff73cc8-25d4-4b85-90d7-b62103535f60",
   "metadata": {},
   "outputs": [
    {
     "name": "stderr",
     "output_type": "stream",
     "text": [
      "C:\\ProgramData\\anaconda3\\Lib\\site-packages\\seaborn\\_oldcore.py:1119: FutureWarning: use_inf_as_na option is deprecated and will be removed in a future version. Convert inf values to NaN before operating instead.\n",
      "  with pd.option_context('mode.use_inf_as_na', True):\n"
     ]
    },
    {
     "data": {
      "text/plain": [
       "<seaborn.axisgrid.FacetGrid at 0x2388ceffa90>"
      ]
     },
     "execution_count": 40,
     "metadata": {},
     "output_type": "execute_result"
    },
    {
     "data": {
      "image/png": "[encoded data removed]",
      "text/plain": [
       "<Figure size 500x500 with 1 Axes>"
      ]
     },
     "metadata": {},
     "output_type": "display_data"
    }
   ],
   "source": [
    "sns.displot( data=df[\"age\"], kde=True )"
   ]
  }
 ],
 "metadata": {
  "kernelspec": {
   "display_name": "Python 3 (ipykernel)",
   "language": "python",
   "name": "python3"
  },
  "language_info": {
   "codemirror_mode": {
    "name": "ipython",
    "version": 3
   },
   "file_extension": ".py",
   "mimetype": "text/x-python",
   "name": "python",
   "nbconvert_exporter": "python",
   "pygments_lexer": "ipython3",
   "version": "3.11.7"
  }
 },
 "nbformat": 4,
 "nbformat_minor": 5
}
